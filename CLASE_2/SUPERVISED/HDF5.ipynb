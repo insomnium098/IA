{
 "cells": [
  {
   "cell_type": "markdown",
   "metadata": {},
   "source": [
    "# HDF5\n",
    "\n",
    "<font color = 'blue'>\n",
    "    \n",
    "   h5py es un paquete de Python que provee una interfaz para el formato de datos binarios HDF5.\n",
    "    \n",
    "   HDF5 permite almacenar grandes cantidades de datos numéricos y manipular facilmente esos datos desde numpy (p.e. dividirlo en conjuntos de datos de varios terabytes como si fueran arreglos en numpy).\n",
    "   \n",
    "   Miles de conjuntos de datos pueden almacenarse en un solo archivo, categorizarse y etiquetarse como lo desee. \n",
    "   \n",
    "   HDF5 es un contenedor para dos tipos de objetos:\n",
    "   \n",
    "   -**Conjuntos de datos**: arreglos de conjuntos de datos---> se trabajan como arreglos en numpy\n",
    "    \n",
    "   -**Grupos**: son contenedores similares a carpetas que contienen conjuntos de datos y otros grupos--->se trabajan como diccionarios"
   ]
  },
  {
   "cell_type": "markdown",
   "metadata": {},
   "source": [
    "## Diccionarios en Python.\n",
    "\n",
    "Un diccionario en python tiene la forma: \n",
    "\n",
    "<font color = 'red'>\n",
    "\n",
    "dict = {key: value}\n",
    "\n",
    "<font color = 'black'>\n",
    "\n",
    "Es un conjunto de pares key, value. Cada key esta asociado con un value. Key y value pueden ser de cualquier tipo. \n",
    "\n",
    "Para acceder a un valor del diccionario:\n",
    "\n",
    "\n",
    "<font color = 'red'>\n",
    "\n",
    "dict[key] <font color = 'black'>regresa el correcpondiente value. "
   ]
  },
  {
   "cell_type": "markdown",
   "metadata": {},
   "source": [
    "**1** abrir un archivo para lectura."
   ]
  },
  {
   "cell_type": "code",
   "execution_count": 2,
   "metadata": {},
   "outputs": [],
   "source": [
    "import numpy as np\n",
    "\n",
    "import h5py\n",
    "\n",
    "# se tiene acceso al paquete h5py para interactuar con los archivos .h5\n",
    "\n",
    "\n",
    "f = h5py.File('datasets/train_catvnoncat.h5', 'r')\n",
    "\n",
    "# se abre el archivo ya existente \"train_catvnoncat.h5\" que esta dentro de la carpeta \"datasets\".\n",
    "# r ---> solo lectura\n",
    "# se crea como un objeto \"f\""
   ]
  },
  {
   "cell_type": "markdown",
   "metadata": {},
   "source": [
    " **Recuerda** un archivo h5 actua como un diccionario de python, por tanto, podemos ver sus 'keys':"
   ]
  },
  {
   "cell_type": "code",
   "execution_count": 3,
   "metadata": {},
   "outputs": [
    {
     "data": {
      "text/plain": [
       "<KeysViewHDF5 ['list_classes', 'train_set_x', 'train_set_y']>"
      ]
     },
     "execution_count": 3,
     "metadata": {},
     "output_type": "execute_result"
    }
   ],
   "source": [
    "f.keys()"
   ]
  },
  {
   "cell_type": "markdown",
   "metadata": {},
   "source": [
    "Basados en la observación, hay tres conjuntos de datos en el archivo: 'list_classes', 'train_set_x' y 'train_set_y'. \n",
    "Vamos a examinar cada conjunto de datos."
   ]
  },
  {
   "cell_type": "code",
   "execution_count": 4,
   "metadata": {},
   "outputs": [],
   "source": [
    "dset = f['list_classes']\n",
    "dsetx = f['train_set_x']\n",
    "dsety = f['train_set_y']\n",
    "\n",
    "# cada conjunto de datos del archivo se convierte en un objeto\n"
   ]
  },
  {
   "cell_type": "markdown",
   "metadata": {},
   "source": [
    "El objeto que obtuvimos no es un arreglo, sino un conjunto de datos HDF5. Al igual que las matrices NumPy, los conjuntos de datos tienen tanto una forma como un tipo de datos:"
   ]
  },
  {
   "cell_type": "code",
   "execution_count": 5,
   "metadata": {},
   "outputs": [
    {
     "name": "stdout",
     "output_type": "stream",
     "text": [
      "(2,) |S7\n",
      "(209, 64, 64, 3) uint8\n",
      "(209,) int64\n"
     ]
    }
   ],
   "source": [
    "print(dset.shape, dset.dtype)\n",
    "print(dsetx.shape, dsetx.dtype)\n",
    "print(dsety.shape, dsety.dtype)"
   ]
  },
  {
   "cell_type": "markdown",
   "metadata": {},
   "source": [
    "También son compatibles con el corte de arreglos. Así es como lee y escribe datos de un conjunto de datos en el archivo:"
   ]
  },
  {
   "cell_type": "code",
   "execution_count": 6,
   "metadata": {},
   "outputs": [
    {
     "data": {
      "text/plain": [
       "(b'non-cat', b'cat')"
      ]
     },
     "execution_count": 6,
     "metadata": {},
     "output_type": "execute_result"
    }
   ],
   "source": [
    "dset[0], dset[1]\n",
    "\n",
    "\n",
    "# el objeto dset que viene del conjunto de datos \"list_classes\" solo tiene dos elementos (es de tamaño (2,)): el 0 y el 1\n",
    "# asociados a las cadenas de texto:"
   ]
  },
  {
   "cell_type": "code",
   "execution_count": 7,
   "metadata": {},
   "outputs": [
    {
     "data": {
      "text/plain": [
       "array([[[ 84,  79,  50],\n",
       "        [ 84,  79,  51],\n",
       "        [ 77,  72,  44],\n",
       "        ...,\n",
       "        [ 67,  50,  25],\n",
       "        [ 40,  29,  12],\n",
       "        [ 37,  26,  12]],\n",
       "\n",
       "       [[ 99,  93,  59],\n",
       "        [ 92,  86,  54],\n",
       "        [ 78,  73,  44],\n",
       "        ...,\n",
       "        [ 64,  49,  24],\n",
       "        [ 45,  31,  14],\n",
       "        [ 38,  27,  12]],\n",
       "\n",
       "       [[110, 103,  68],\n",
       "        [ 99,  94,  60],\n",
       "        [ 87,  83,  49],\n",
       "        ...,\n",
       "        [ 77,  56,  27],\n",
       "        [ 52,  36,  17],\n",
       "        [ 39,  28,  14]],\n",
       "\n",
       "       ...,\n",
       "\n",
       "       [[ 49,  33,  18],\n",
       "        [ 48,  33,  19],\n",
       "        [ 49,  35,  18],\n",
       "        ...,\n",
       "        [ 58,  38,  24],\n",
       "        [ 57,  37,  22],\n",
       "        [ 61,  38,  22]],\n",
       "\n",
       "       [[ 47,  31,  19],\n",
       "        [ 48,  33,  19],\n",
       "        [ 50,  34,  18],\n",
       "        ...,\n",
       "        [ 60,  40,  24],\n",
       "        [ 60,  38,  22],\n",
       "        [ 62,  38,  24]],\n",
       "\n",
       "       [[ 47,  33,  19],\n",
       "        [ 45,  32,  18],\n",
       "        [ 48,  32,  19],\n",
       "        ...,\n",
       "        [ 65,  40,  23],\n",
       "        [ 58,  38,  22],\n",
       "        [ 56,  35,  22]]], dtype=uint8)"
      ]
     },
     "execution_count": 7,
     "metadata": {},
     "output_type": "execute_result"
    }
   ],
   "source": [
    "index = 5\n",
    "\n",
    "dsetx[index]\n",
    "\n",
    "# llama al elemento \"index\" del conjunto dsetx\n",
    "\n",
    "# el conjunto de datos train_set_x que se convirtio al objeto dsetx contiene matrices RGB de 209 imagenes de 64 pixeles \n",
    "# por 64 pixeles\n",
    "\n",
    "# como vimos el tamaño del objeto dsetx es (209, 64, 64, 3) por lo que tiene 209 elementos (matrices RGB de imagenes)\n",
    "# que se enumeran de 0 a 208.\n"
   ]
  },
  {
   "cell_type": "code",
   "execution_count": 8,
   "metadata": {},
   "outputs": [
    {
     "data": {
      "text/plain": [
       "0"
      ]
     },
     "execution_count": 8,
     "metadata": {},
     "output_type": "execute_result"
    }
   ],
   "source": [
    "index = 20\n",
    "\n",
    "dsety[index]\n",
    "\n",
    "# llama al elemento \"index\" del conjunto dsety\n",
    "\n",
    "# el conjunto de datos train_set_y que se convirtio al objeto dsety contiene unos y ceros para indicar si \n",
    "# una imagen es un gato o no\n",
    "\n",
    "# 1 --> es un gato\n",
    "# 0 --> no es un gato\n",
    "\n",
    "# como vimos el tamaño del objeto dsety es (209, ) por lo que tiene 209 elementos que se enumeran de 0 a 208. "
   ]
  },
  {
   "cell_type": "markdown",
   "metadata": {},
   "source": [
    "Para **crear** un archivo:\n",
    "\n",
    "Podemos crear un archivo estableciendo el modo en w cuando se inicializa el objeto File. Algunos otros modos son a (para acceso de lectura / escritura / creación) y r + (para acceso de lectura / escritura). "
   ]
  },
  {
   "cell_type": "code",
   "execution_count": 9,
   "metadata": {},
   "outputs": [],
   "source": [
    "k = h5py.File(\"datasets/prueba.hdf5\", \"w\")"
   ]
  },
  {
   "cell_type": "markdown",
   "metadata": {},
   "source": [
    "\n",
    "El objeto File tiene un par de métodos. Uno de ellos es create_dataset, que como su nombre lo indica, crea un conjunto de datos de forma y tipo dados."
   ]
  },
  {
   "cell_type": "code",
   "execution_count": 10,
   "metadata": {},
   "outputs": [],
   "source": [
    "dataset = k.create_dataset(\"mydataset\", (100,), dtype='i')\n",
    "\n",
    "# el atributo create_dataset se aplica al objeto k. El conjunto creado en k se nombra mydataset, tiene tamaño 100 \n",
    "# y es de tipo entero."
   ]
  },
  {
   "cell_type": "code",
   "execution_count": 11,
   "metadata": {},
   "outputs": [],
   "source": [
    "# Ejercicio propuesto: Realiza un tratamiento similar al que hicimos al archivo train_catvnoncat.h5 al archivo \n",
    "# test_catvnoncat.h5. "
   ]
  },
  {
   "cell_type": "code",
   "execution_count": null,
   "metadata": {},
   "outputs": [],
   "source": []
  }
 ],
 "metadata": {
  "kernelspec": {
   "display_name": "Python 3",
   "language": "python",
   "name": "python3"
  },
  "language_info": {
   "codemirror_mode": {
    "name": "ipython",
    "version": 3
   },
   "file_extension": ".py",
   "mimetype": "text/x-python",
   "name": "python",
   "nbconvert_exporter": "python",
   "pygments_lexer": "ipython3",
   "version": "3.7.3"
  }
 },
 "nbformat": 4,
 "nbformat_minor": 2
}
